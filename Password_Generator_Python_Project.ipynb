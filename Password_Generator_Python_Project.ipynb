{
  "nbformat": 4,
  "nbformat_minor": 0,
  "metadata": {
    "colab": {
      "provenance": [],
      "authorship_tag": "ABX9TyNsmGLiM86KCecMVu6ps535",
      "include_colab_link": true
    },
    "kernelspec": {
      "name": "python3",
      "display_name": "Python 3"
    },
    "language_info": {
      "name": "python"
    }
  },
  "cells": [
    {
      "cell_type": "markdown",
      "metadata": {
        "id": "view-in-github",
        "colab_type": "text"
      },
      "source": [
        "<a href=\"https://colab.research.google.com/github/sa-biha/Password-Generator-Python-Project/blob/main/Password_Generator_Python_Project.ipynb\" target=\"_parent\"><img src=\"https://colab.research.google.com/assets/colab-badge.svg\" alt=\"Open In Colab\"/></a>"
      ]
    },
    {
      "cell_type": "markdown",
      "source": [
        "# Project 7: Password Generator Python Project"
      ],
      "metadata": {
        "id": "0fNZShcjLwtN"
      }
    },
    {
      "cell_type": "markdown",
      "source": [
        "# ***Cell 1: Import Required Libraries***"
      ],
      "metadata": {
        "id": "CmTrJ9PAL3Ao"
      }
    },
    {
      "cell_type": "code",
      "source": [
        "import random\n",
        "import string"
      ],
      "metadata": {
        "id": "uu3cpU2nMLV5"
      },
      "execution_count": null,
      "outputs": []
    },
    {
      "cell_type": "markdown",
      "source": [
        "# ***Cell 2: Display Instructions***"
      ],
      "metadata": {
        "id": "rPAifpsYMM4K"
      }
    },
    {
      "cell_type": "code",
      "source": [
        "print(\"Welcome to the Password Generator!\")\n",
        "print(\"Generate strong, secure passwords easily.\")\n",
        "print(\"You can customize the password length and include letters, digits, and symbols.\")\n"
      ],
      "metadata": {
        "colab": {
          "base_uri": "https://localhost:8080/"
        },
        "id": "cLMXuK5GMXCe",
        "outputId": "26467e3d-a2a0-4fc2-c9ed-874348708055"
      },
      "execution_count": null,
      "outputs": [
        {
          "output_type": "stream",
          "name": "stdout",
          "text": [
            "Welcome to the Password Generator!\n",
            "Generate strong, secure passwords easily.\n",
            "You can customize the password length and include letters, digits, and symbols.\n"
          ]
        }
      ]
    },
    {
      "cell_type": "markdown",
      "source": [
        "# ***Cell 3: Define the Password Generator Function***"
      ],
      "metadata": {
        "id": "rVXvFLfwMgvV"
      }
    },
    {
      "cell_type": "code",
      "source": [
        "def generate_password(length):\n",
        "    if length < 6:\n",
        "        print(\"Password length should be at least 6 characters for security.\")\n",
        "        return \"\"\n",
        "\n",
        "    # Define possible characters for the password\n",
        "    letters = string.ascii_letters  # Uppercase and lowercase letters\n",
        "    digits = string.digits          # Numbers\n",
        "    symbols = string.punctuation    # Special characters\n",
        "\n",
        "    # Ensure password contains at least one letter, one digit, and one symbol\n",
        "    all_characters = letters + digits + symbols\n",
        "    password = random.choice(letters) + random.choice(digits) + random.choice(symbols)\n",
        "\n",
        "    # Fill the remaining password length with random characters\n",
        "    for _ in range(length - 3):\n",
        "        password += random.choice(all_characters)\n",
        "\n",
        "    # Shuffle the password for better randomness\n",
        "    password = ''.join(random.sample(password, len(password)))\n",
        "    return password\n"
      ],
      "metadata": {
        "id": "jPseIopDMph7"
      },
      "execution_count": null,
      "outputs": []
    },
    {
      "cell_type": "markdown",
      "source": [
        "# ***Cell 4: Generate a Password***"
      ],
      "metadata": {
        "id": "83sxQmOEMwM6"
      }
    },
    {
      "cell_type": "code",
      "source": [
        "# Input for password length\n",
        "try:\n",
        "    length = int(input(\"Enter the desired password length: \"))\n",
        "    password = generate_password(length)\n",
        "    if password:\n",
        "        print(f\"Your generated password is: {password}\")\n",
        "except ValueError:\n",
        "    print(\"Invalid input! Please enter a number.\")"
      ],
      "metadata": {
        "colab": {
          "base_uri": "https://localhost:8080/"
        },
        "id": "vLxoEQ3TM28Y",
        "outputId": "24c14763-2a85-44e7-83c9-e3299eb3b18a"
      },
      "execution_count": null,
      "outputs": [
        {
          "output_type": "stream",
          "name": "stdout",
          "text": [
            "Enter the desired password length: 12\n",
            "Your generated password is: P{5%?/'j]EH1\n"
          ]
        }
      ]
    }
  ]
}